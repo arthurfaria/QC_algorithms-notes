{
 "cells": [
  {
   "cell_type": "markdown",
   "id": "6fa499ab-4223-4f54-8d3e-40c9e8ecd26d",
   "metadata": {},
   "source": [
    "### Demonstration of Quantum Key Distribution"
   ]
  },
  {
   "cell_type": "markdown",
   "id": "6c675707-fa84-4f9f-9762-7a4ad8b8d11b",
   "metadata": {},
   "source": [
    "In this jupyter notebook we will demonstrate quantum key distribution using Qiskit. By now, you should be familiar with the basic steps of the protocol. Just to recall shortly, the ultimate goal is to gain a _shared secret_. In this case it will be a key shared between Bob and Alice, which can be used for encrypting messages. Only they will be able to know this secret."
   ]
  },
  {
   "cell_type": "code",
   "execution_count": 1,
   "id": "11af9063-c33a-4c47-82b8-3cb76c3e43cb",
   "metadata": {
    "tags": []
   },
   "outputs": [],
   "source": [
    "import numpy as np\n",
    "from numpy import pi\n",
    "\n",
    "# Importing standard Qiskit libraries\n",
    "from qiskit import QuantumCircuit, transpile, Aer, IBMQ, QuantumRegister, ClassicalRegister, execute\n",
    "from qiskit.providers.aer import AerSimulator\n",
    "from qiskit.tools import job_monitor\n",
    "\n",
    "# Loading your IBM Quantum account(s)\n",
    "provider = IBMQ.load_account()"
   ]
  },
  {
   "cell_type": "markdown",
   "id": "7e6e52e3-2146-4c3b-8f81-7dbe9d7cb638",
   "metadata": {},
   "source": [
    "Alice will chose a basis and a bit randomly, Bob will pick a random basis. Hence, we define a random measurement function. In other words a two sided dice:"
   ]
  },
  {
   "cell_type": "code",
   "execution_count": 2,
   "id": "7081584d-3b11-479c-a945-05204be316f7",
   "metadata": {},
   "outputs": [],
   "source": [
    "def random(circ, q, c):\n",
    "    circ.reset(q) # we reset the qubit to |0>\n",
    "    circ.h(q) # create superposition of |0> and |1>\n",
    "    circ.measure(q,c) # measure: outcome will be 0 or 1, both 50% of the time\n",
    "    circ.barrier() # this does not actually do anything"
   ]
  },
  {
   "cell_type": "markdown",
   "id": "f080371e-dc18-405a-aa61-e9db65712ef1",
   "metadata": {
    "tags": []
   },
   "source": [
    "After this, Alice prepares the state for sending it to Bob"
   ]
  },
  {
   "cell_type": "code",
   "execution_count": 3,
   "id": "233b32ff-c2fc-4f21-9f59-183ad17f0fa4",
   "metadata": {},
   "outputs": [],
   "source": [
    "def prepare(circ, q, cbit, cbasis):\n",
    "    circ.reset(q) # reset the qubit\n",
    "    circ.x(q).c_if(cbit, 0) # apply x-gate (NOT) if the classical bit cbit has value 0\n",
    "    circ.h(q) # hadamard-gate on q\n",
    "    circ.s(q).c_if(cbasis, 0) # conditioned s-gate if cbit has value 0\n",
    "    circ.barrier() # again, nothing happens here"
   ]
  },
  {
   "cell_type": "markdown",
   "id": "31cdf2fb-a5fe-4c5c-954b-4edd876038a7",
   "metadata": {},
   "source": [
    "Finally, Bob will measure in the basis, he chose randomly in the step before.\n",
    "\n",
    "\n",
    "<div class=\"alert alert-block alert-success\">\n",
    "<b>Part 1</b>\n",
    "    \n",
    "ALthough, Bob does not remember how to implement the measurement process, he remembers, that the steps he has to take before measurement are the inverse of Alice's preparation process: $U_{Bob} = U_{Alice}^{\\dagger} = (X H S)^{\\dagger}$. Let's implement it\n",
    "    \n",
    "</div>"
   ]
  },
  {
   "cell_type": "code",
   "execution_count": 4,
   "id": "7cec316d-ca2e-443d-9c10-fa6637c4f955",
   "metadata": {},
   "outputs": [],
   "source": [
    "def measure(circ, q, cbit, cbasis):\n",
    "    circ.sdg(q).c_if(cbasis, 0)\n",
    "    circ.h(q)\n",
    "    circ.x(q)\n",
    "    circ.measure(q, cbit)"
   ]
  },
  {
   "cell_type": "code",
   "execution_count": 5,
   "id": "51a078f3-f0b1-4861-95f4-99b0bbb70589",
   "metadata": {},
   "outputs": [
    {
     "data": {
      "image/png": "[encoded data removed]",
      "text/plain": [
       "<Figure size 1451.52x385.28 with 1 Axes>"
      ]
     },
     "execution_count": 5,
     "metadata": {},
     "output_type": "execute_result"
    }
   ],
   "source": [
    "# STEP 1: We initialize our registers. We use two qubits and four classical bits\n",
    "\n",
    "alice = QuantumRegister(1, 'alice')\n",
    "bob = QuantumRegister(1, 'bob')\n",
    "abasis = ClassicalRegister(1, 'abasis')\n",
    "abit = ClassicalRegister(1, 'abit')\n",
    "bbasis = ClassicalRegister(1, 'bbasis')\n",
    "bbit = ClassicalRegister(1, 'bbit')\n",
    "qkd = QuantumCircuit(alice, bob, abasis, abit, bbasis, bbit)\n",
    "\n",
    "# STEP 2: Alice chooses a basis randomly\n",
    "random(qkd, alice[0], abasis[0])\n",
    "\n",
    "# STEP 3: Alice chooses whether she sends 0 or 1 by random\n",
    "random(qkd, alice[0], abit[0])\n",
    "\n",
    "# STEP 4: Alice prepares the state for sending it to Bob\n",
    "prepare(qkd, alice[0], abit[0], abasis[0])\n",
    "\n",
    "# STEP 5: Bob chooses the basis for measurement and 'receives' the qubit from Alice via quantum channel\n",
    "random(qkd, bob[0], bbasis[0])\n",
    "qkd.swap(alice[0], bob[0])\n",
    "\n",
    "# STEP 6: Finally, Bob performs the measurement, depending, on\n",
    "measure(qkd, bob[0], bbit[0], bbasis[0])\n",
    "\n",
    "qkd.draw('mpl')"
   ]
  },
  {
   "cell_type": "markdown",
   "id": "9dfd431f-fa5f-42bf-9a0e-26c57249d1e2",
   "metadata": {},
   "source": [
    "Now Alice and Bob repeat their measurement process for 1024 times. We will simulate this by running our quantum circuit 1024 times with the help of Aer backend. Then, we will be extracting the bitstrings representing Alice and Bob's respective choices of basis (0 or 1 base) and their respective measurements."
   ]
  },
  {
   "cell_type": "code",
   "execution_count": 6,
   "id": "2af6812e-ef46-483a-a7d0-31a7b7f3def7",
   "metadata": {},
   "outputs": [],
   "source": [
    "aer_sim = Aer.get_backend('aer_simulator') # we load the simulator backend\n",
    "\n",
    "key_length = 1024 # let's create a 1024 bits long key\n",
    "\n",
    "# these strings are gonna be the bitstrings representing Alice's and Bob's basis choices as well as their raw keys\n",
    "abasis = \"\" \n",
    "abit = \"\"\n",
    "bbasis = \"\"\n",
    "bbit = \"\"\n",
    "\n",
    "# run the algorithm 1024 times\n",
    "for i in range(0, int(key_length)):\n",
    "    results = aer_sim.run(qkd, shots=1).result()\n",
    "    counts = results.get_counts()\n",
    "    res = list(counts.keys())[0]\n",
    "    abasis += res[6]\n",
    "    abit += res[4]\n",
    "    bbasis += res[2]\n",
    "    bbit += res[0]\n"
   ]
  },
  {
   "cell_type": "markdown",
   "id": "ebba93cb-4a3c-4f2c-b0e5-81e075a9c52d",
   "metadata": {},
   "source": [
    "For example, Alice recovered this bitstring:"
   ]
  },
  {
   "cell_type": "code",
   "execution_count": 7,
   "id": "5cbe3b1c-4170-49c2-8516-12461fd75dc9",
   "metadata": {},
   "outputs": [
    {
     "data": {
      "text/plain": [
       "'0110001001001011101010101111111001111010100000111110100001111001001100011010010001011000010111101110010011010000101111101010010000110001001101001110011010100000010101100010110101001000000100001010011010000101001000111011010001110111111010111101111111001010111011110011001010110010110110001001100101111000000000110111101010100010001010101111100000000101001001000110100110000111000100111101001000001011111110110000100010010111101101001000110001101010100100010100110101000011101100000110001011011001110101111010110011001000011001101010000000000101011110110000011111011000001001011110000000000100100110100100011001111010011100100001100101001011110111101101111011111111100101011111001011101010011011110111010101000001011100101111010101110001110001011011100101001110000001000100101001110111010111001100110110010110000110011000110111011000100011100111110100000000000011000101010111000111010011010001000101100101010100101010010010011001010001001100010101001111110110011110100010010100011111110111110001101010100111011110110110011011'"
      ]
     },
     "execution_count": 7,
     "metadata": {},
     "output_type": "execute_result"
    }
   ],
   "source": [
    "abit"
   ]
  },
  {
   "cell_type": "markdown",
   "id": "4d6bd01d-dbac-4899-a59d-4ae4ce664c94",
   "metadata": {},
   "source": [
    "And Bob recovered this one:"
   ]
  },
  {
   "cell_type": "code",
   "execution_count": 8,
   "id": "2bd1948e-b308-4903-8f23-b0dcf590af89",
   "metadata": {},
   "outputs": [
    {
     "data": {
      "text/plain": [
       "'1011111001001011101010010111101011101010000011111111000001111001000000001010010100000000010111111010010011000000111111001011011000110010001110001110011010010101010101010011110100000100000101001110111000100111101101111111010111010010111011111100111111100001100110111011111000110001110100000000000100111001010000111111101010100001000010010111100000000001111001010110110111000010001010110100001100001111011110101001111010010101111011000010001101101011110000000101110101000001000100000110001011111111110001011011010111000000011001111010000001100010000111100000010111011001110101011111010000000000100111101000011001000010011100001000101000001011110010111101111011101111000101011100101010010011011011011101010100000000001001100010111101101101110011011011100111001100100001001100100000011111111100001000010101001110000011011100011111111100101111100111110101000001000011010001010111000010000011110101010001100111001101110000010010001010010111001110000001011010010111010101101000010100010111110011111011101110111010011010100110011111'"
      ]
     },
     "execution_count": 8,
     "metadata": {},
     "output_type": "execute_result"
    }
   ],
   "source": [
    "bbit"
   ]
  },
  {
   "cell_type": "code",
   "execution_count": 9,
   "id": "83220824-fd31-44bd-b8ea-d0144641ce86",
   "metadata": {},
   "outputs": [
    {
     "data": {
      "text/plain": [
       "False"
      ]
     },
     "execution_count": 9,
     "metadata": {},
     "output_type": "execute_result"
    }
   ],
   "source": [
    "abit == bbit"
   ]
  },
  {
   "cell_type": "markdown",
   "id": "e4d74ef9-f259-4947-b545-d8dba9cab108",
   "metadata": {},
   "source": [
    "Note that both bitstrings are **not** the same!"
   ]
  },
  {
   "cell_type": "markdown",
   "id": "41cf4d78-4b06-4362-80f4-ece7e0d7f0d6",
   "metadata": {},
   "source": [
    "Next, we want to dwelve into the postprocessing. Of course, Alice and Bob sometimes accidentally pick a different basis and might thus measure a different outcome. This is the reason why at this point their keys do not match. Therefore, Bob and Alice have to compare their choices of basis and ignore all measurements in which they did not choose the same basis.\n",
    "\n",
    "This process is called **key sifting** and is essential for the implementation of BB84. Without it, the whole protocol fails. \n",
    "\n",
    "<div class=\"alert alert-block alert-success\">\n",
    "<b>Part 2</b>\n",
    "    \n",
    "Now, we will implement the key sifting. Basically, iterate over every single measurement and discard every bit for which the basis that Alice and Bob chose independently does not match. The function 'sifted_key_positions' should return a list of all indeces of usable measurements.\n",
    "    \n",
    "</div>"
   ]
  },
  {
   "cell_type": "code",
   "execution_count": 10,
   "id": "04245678-3688-4ecb-aabb-1db1647a78f7",
   "metadata": {},
   "outputs": [],
   "source": [
    "def sifted_key_positions(abasis, bbasis):\n",
    "    pos = []\n",
    "    for i in range(0, len(abasis)):\n",
    "        if abasis[i] == bbasis[i]:\n",
    "                pos.append(i)\n",
    "    return pos"
   ]
  },
  {
   "cell_type": "code",
   "execution_count": 11,
   "id": "48d6894c-e3d7-4468-9c54-f517f0497beb",
   "metadata": {},
   "outputs": [
    {
     "data": {
      "text/plain": [
       "True"
      ]
     },
     "execution_count": 11,
     "metadata": {},
     "output_type": "execute_result"
    }
   ],
   "source": [
    "# now let's check whether Bob's key matches Alice's!\n",
    "\n",
    "sifted_key_alice = \"\".join([abit[j] for j in sifted_key_positions(abasis, bbasis)])\n",
    "sifted_key_bob = \"\".join([bbit[j] for j in sifted_key_positions(abasis, bbasis)])\n",
    "\n",
    "sifted_key_alice == sifted_key_bob"
   ]
  },
  {
   "cell_type": "markdown",
   "id": "b527f5c2-1572-4dbf-ab94-b223d178603e",
   "metadata": {},
   "source": [
    "In case this returns 'True': **BB84 was successfully implemented!** \n",
    "\n",
    "Unfortunately, _real life_ does not work like this. We will now introduce some noise to the quantum algorithm. Just recall for a moment, that every quantum mechanical system is prone to noise. Let's run the same ircuit but now in a _real_ machine."
   ]
  },
  {
   "cell_type": "code",
   "execution_count": 12,
   "id": "d0b7c315-1237-42ea-a112-ca289d0259f6",
   "metadata": {},
   "outputs": [
    {
     "name": "stdout",
     "output_type": "stream",
     "text": [
      "False\n"
     ]
    }
   ],
   "source": [
    "backend = provider.get_backend('ibmq_santiago')\n",
    "aer_sim = AerSimulator.from_backend(backend)\n",
    "\n",
    "key_length = 1024\n",
    "\n",
    "abasis = \"\"\n",
    "abit = \"\"\n",
    "bbasis = \"\"\n",
    "bbit = \"\"randomly\n",
    "\n",
    "for i in range(0, int(key_length)):\n",
    "    results = aer_sim.run(qkd, shots=1).result()\n",
    "    counts = results.get_counts()\n",
    "    res = list(counts.keys())[0]\n",
    "    abasis += res[6]\n",
    "    abit += res[4]\n",
    "    bbasis += res[2]\n",
    "    bbit += res[0]\n",
    "    \n",
    "n_sifted_key_alice = \"\".join([abit[j] for j in sifted_key_positions(abasis, bbasis)])\n",
    "n_sifted_key_bob = \"\".join([bbit[j] for j in sifted_key_positions(abasis, bbasis)])\n",
    "\n",
    "print(n_sifted_key_alice == n_sifted_key_bob)"
   ]
  },
  {
   "cell_type": "markdown",
   "id": "c79fa78c-83a2-4199-acde-bc90fc03da8c",
   "metadata": {},
   "source": [
    "Darn! Alice and Bob do not have the same key.\n",
    "\n",
    "But how much exactly do they differ?\n",
    "\n",
    "<div class=\"alert alert-block alert-success\">\n",
    "<b>Part 3</b>\n",
    "    \n",
    "We will calculate the quantum bit error rate (QBER). It is defined as the rate of errors in the key. You can calculate it by counting the number of errors and then dividing by the key length.\n",
    "    \n",
    "</div>"
   ]
  },
  {
   "cell_type": "code",
   "execution_count": 13,
   "id": "693c67e5-6e71-4859-ba6d-c68025d58e50",
   "metadata": {},
   "outputs": [
    {
     "data": {
      "text/plain": [
       "0.01818181818181818"
      ]
     },
     "execution_count": 13,
     "metadata": {},
     "output_type": "execute_result"
    }
   ],
   "source": [
    "def qber(key_a, key_b):\n",
    "    errors = 0\n",
    "    n = len(key_a)\n",
    "    for i in range(n):\n",
    "        if(key_a[i] != key_b[i]):\n",
    "            errors += 1\n",
    "    return errors/n\n",
    "\n",
    "qber(n_sifted_key_alice, n_sifted_key_bob)"
   ]
  },
  {
   "cell_type": "markdown",
   "id": "5914bacd-9613-40c0-b123-1a08495d5981",
   "metadata": {},
   "source": [
    "In our case, the quantum bit error rate should be a little less than 7%. A complete implementation of the BB84 would also include an error correction algorithm. We're not gonna go there during this lecture. You don't have to worry about it _for now_. Instead, since the whole point of quantum key distribution is to establish security, let's check what happens to our quantum system, in case there is an eavesdropper, Eve, trying to spy on Alice and Bob's quantum _conversation_. We modify our quantum circuit a little:"
   ]
  },
  {
   "cell_type": "code",
   "execution_count": 14,
   "id": "3571b24b-5414-471e-aabb-0dbd276842b6",
   "metadata": {},
   "outputs": [
    {
     "data": {
      "image/png": "[encoded data removed]",
      "text/plain": [
       "<Figure size 1632.12x1167.88 with 1 Axes>"
      ]
     },
     "execution_count": 14,
     "metadata": {},
     "output_type": "execute_result"
    }
   ],
   "source": [
    "def eavesdropping(circ, q, qbasis, cbit, cbasis):\n",
    "    random(qkd, qbasis, cbasis) # Eve will chose a basis for measuring the qubit randomly\n",
    "    measure(qkd, q, cbit, cbasis) # next she measures it\n",
    "    prepare(qkd, q, cbit, cbasis) # and then she prepares a new qubit so Bob will not be suspicious of her actions\n",
    "    \n",
    "\n",
    "# STEP 1: We initialize our registers. We use two qubits and four classical bits for Alice and Bob\n",
    "# Add a qubit and two classical bits for Eve\n",
    "\n",
    "alice = QuantumRegister(1, 'alice')\n",
    "bob = QuantumRegister(1, 'bob')\n",
    "eve = QuantumRegister(1, 'eve')\n",
    "\n",
    "abasis = ClassicalRegister(1, 'abasis')\n",
    "abit = ClassicalRegister(1, 'abit')\n",
    "bbasis = ClassicalRegister(1, 'bbasis')\n",
    "bbit = ClassicalRegister(1, 'bbit')\n",
    "ebasis = ClassicalRegister(1, 'ebasis')\n",
    "ebit = ClassicalRegister(1, 'ebit')\n",
    "\n",
    "qkd = QuantumCircuit(alice, bob, eve, ebasis, ebit, abasis, abit, bbasis, bbit)\n",
    "\n",
    "# STEP 2: Alice chooses a basis randomly\n",
    "random(qkd, alice[0], abasis[0])\n",
    "\n",
    "# STEP 3: Alice chooses whether she sends 0 or 1 by random\n",
    "random(qkd, alice[0], abit[0])\n",
    "\n",
    "# STEP 4: Alice prepares the state for sending it to Bob\n",
    "prepare(qkd, alice[0], abit[0], abasis[0])\n",
    "\n",
    "# STEP 5: Bob chooses the basis for measurement and 'receives' the qubit from Alice via quantum channel\n",
    "random(qkd, bob[0], bbasis[0])\n",
    "\n",
    "# STEP 5.5: Eve tries to get as much information as possible by intercepting every qubit, measuring it in a random basis\n",
    "# and preparing a new qubit for Bob\n",
    "eavesdropping(qkd, alice[0], eve[0], ebit[0], ebasis[0])\n",
    "\n",
    "qkd.swap(alice[0], bob[0])\n",
    "\n",
    "# STEP 6: Finally, Bob performs the measurement, depending, on\n",
    "measure(qkd, bob[0], bbit[0], bbasis[0])\n",
    "\n",
    "qkd.draw('mpl')"
   ]
  },
  {
   "cell_type": "markdown",
   "id": "28ae3561-71d7-4617-92d9-536b4be311c3",
   "metadata": {},
   "source": [
    "Great! Eve will read information from the quantum channel, but what happens now? Let's check it out. But for the sake of demonstration, we will remove any other noise, thus simulating an ideal system again."
   ]
  },
  {
   "cell_type": "code",
   "execution_count": 15,
   "id": "0cc06390-a3b0-4925-bd15-bb88cc5acadd",
   "metadata": {},
   "outputs": [
    {
     "name": "stdout",
     "output_type": "stream",
     "text": [
      "{'1 1 1 1 1 0': 1}\n"
     ]
    }
   ],
   "source": [
    "aer_sim = Aer.get_backend('aer_simulator') \n",
    "\n",
    "key_length = 2**11\n",
    "\n",
    "abasis = \"\"\n",
    "abit = \"\"\n",
    "bbasis = \"\"\n",
    "bbit = \"\"\n",
    "ebasis = \"\"\n",
    "ebit = \"\"\n",
    "\n",
    "for i in range(0, int(key_length)):\n",
    "    results = execute(qkd, aer_sim, shots=1).result()\n",
    "    counts = results.get_counts()\n",
    "    res = list(counts.keys())[0]\n",
    "    ebasis += res[10]\n",
    "    ebit += res[8]\n",
    "    abasis += res[6]\n",
    "    abit += res[4]\n",
    "    bbasis += res[2]\n",
    "    bbit += res[0]\n",
    "\n",
    "print(counts)"
   ]
  },
  {
   "cell_type": "code",
   "execution_count": 16,
   "id": "c74f540f-1642-4ac2-9e4a-ebb7e25c1611",
   "metadata": {},
   "outputs": [
    {
     "name": "stdout",
     "output_type": "stream",
     "text": [
      "Quantum bit error rate of Bob: 26.30%\n",
      "Amount of information Eve was able to snoop on: 73.90%\n"
     ]
    }
   ],
   "source": [
    "ne_sifted_key_alice = \"\".join([abit[j] for j in sifted_key_positions(abasis, bbasis)])\n",
    "ne_sifted_key_bob = \"\".join([bbit[j] for j in sifted_key_positions(abasis, bbasis)])\n",
    "\n",
    "# Eve will have to stick with the basis choices of Alice and Bob\n",
    "ne_sifted_key_eve = \"\".join([ebit[j] for j in sifted_key_positions(abasis, bbasis)])\n",
    "\n",
    "print(f\"Quantum bit error rate of Bob: {qber(ne_sifted_key_alice, ne_sifted_key_bob)*100:.2f}%\")\n",
    "print(f\"Amount of information Eve was able to snoop on: {(1-qber(ne_sifted_key_alice, ne_sifted_key_eve))*100:.2f}%\")"
   ]
  },
  {
   "cell_type": "markdown",
   "id": "b3355be2-f86a-4744-88f5-8d5e86e77482",
   "metadata": {},
   "source": [
    "We observe that Eve was able to read a significant amount of the key! Actually she has about the same level of knowledge of Alice's numbers as Bob. This means a secure post-processing cannout be done. Alice and Bob should not use this quantum key! Fortunately, we also observe, that Bob's quantum bit error rate has increased to about 25%. This is another advantage of quantum key distribution: attacks can be noticed by Alice and Bob."
   ]
  },
  {
   "cell_type": "code",
   "execution_count": null,
   "id": "99c4f817-e265-4e97-b852-b7b0b7a642f0",
   "metadata": {},
   "outputs": [],
   "source": []
  }
 ],
 "metadata": {
  "kernelspec": {
   "display_name": "Python 3 (ipykernel)",
   "language": "python",
   "name": "python3"
  },
  "language_info": {
   "codemirror_mode": {
    "name": "ipython",
    "version": 3
   },
   "file_extension": ".py",
   "mimetype": "text/x-python",
   "name": "python",
   "nbconvert_exporter": "python",
   "pygments_lexer": "ipython3",
   "version": "3.8.10"
  },
  "widgets": {
   "application/vnd.jupyter.widget-state+json": {
    "state": {
     "05f0bd8fa80c415ba03a09144807b9ec": {
      "model_module": "@jupyter-widgets/base",
      "model_module_version": "1.2.0",
      "model_name": "LayoutModel",
      "state": {
       "width": "70px"
      }
     },
     "0b32a298a13a49ef9b85e7c461ec04fd": {
      "model_module": "@jupyter-widgets/controls",
      "model_module_version": "1.5.0",
      "model_name": "HTMLModel",
      "state": {
       "layout": "IPY_MODEL_a1b79de9401b46abac62caadccea0781",
       "style": "IPY_MODEL_c8c34590cf4141c4ba82ca100b94e5cd",
       "value": "<h5>Status</h5>"
      }
     },
     "17e3d4ecd4514fdb927d968054bfd9ec": {
      "model_module": "@jupyter-widgets/controls",
      "model_module_version": "1.5.0",
      "model_name": "DescriptionStyleModel",
      "state": {
       "description_width": ""
      }
     },
     "19ee7c05e99e438c94e958d7ce7aa2df": {
      "model_module": "@jupyter-widgets/controls",
      "model_module_version": "1.5.0",
      "model_name": "HBoxModel",
      "state": {
       "children": [
        "IPY_MODEL_ae1ec108d73a489a87793586ea873da7",
        "IPY_MODEL_b73a633408df4f3a90f74c39050fe5d8",
        "IPY_MODEL_0b32a298a13a49ef9b85e7c461ec04fd",
        "IPY_MODEL_331570d7b68c414badfcb6f6f8ced807",
        "IPY_MODEL_50db864bfe99407a9800735053bad813"
       ],
       "layout": "IPY_MODEL_78117af1e6c140e19de89cf4aa9c2b43"
      }
     },
     "2450ae4fd83349b095a81ae219a7a942": {
      "model_module": "@jupyter-widgets/controls",
      "model_module_version": "1.5.0",
      "model_name": "GridBoxModel",
      "state": {
       "children": [
        "IPY_MODEL_e43c7efa21bb47b082a294551d16806b"
       ],
       "layout": "IPY_MODEL_779d4fafe3fb45a78ce1d376bbb49eb1"
      }
     },
     "29f3f576a25645c899ef557c97a1027a": {
      "model_module": "@jupyter-widgets/controls",
      "model_module_version": "1.5.0",
      "model_name": "DescriptionStyleModel",
      "state": {
       "description_width": ""
      }
     },
     "331570d7b68c414badfcb6f6f8ced807": {
      "model_module": "@jupyter-widgets/controls",
      "model_module_version": "1.5.0",
      "model_name": "HTMLModel",
      "state": {
       "layout": "IPY_MODEL_05f0bd8fa80c415ba03a09144807b9ec",
       "style": "IPY_MODEL_ab0cc1b15a2f4327b8b987d0d467c76e",
       "value": "<h5>Queue</h5>"
      }
     },
     "44fd40fc00744aa1962c85a9731deb12": {
      "model_module": "@jupyter-widgets/base",
      "model_module_version": "1.2.0",
      "model_name": "LayoutModel",
      "state": {
       "margin": "0px 0px 10px 0px"
      }
     },
     "50db864bfe99407a9800735053bad813": {
      "model_module": "@jupyter-widgets/controls",
      "model_module_version": "1.5.0",
      "model_name": "HTMLModel",
      "state": {
       "layout": "IPY_MODEL_5aab41ec445543b6b0c1cd14a34a1892",
       "style": "IPY_MODEL_17e3d4ecd4514fdb927d968054bfd9ec",
       "value": "<h5>Message</h5>"
      }
     },
     "5aab41ec445543b6b0c1cd14a34a1892": {
      "model_module": "@jupyter-widgets/base",
      "model_module_version": "1.2.0",
      "model_name": "LayoutModel",
      "state": {}
     },
     "7375ab71196342179e1bd839c9d842d9": {
      "model_module": "@jupyter-widgets/base",
      "model_module_version": "1.2.0",
      "model_name": "LayoutModel",
      "state": {
       "width": "190px"
      }
     },
     "779d4fafe3fb45a78ce1d376bbb49eb1": {
      "model_module": "@jupyter-widgets/base",
      "model_module_version": "1.2.0",
      "model_name": "LayoutModel",
      "state": {
       "grid_template_areas": "\n                                       \". . . . right \"\n                                        ",
       "grid_template_columns": "20% 20% 20% 20% 20%",
       "width": "100%"
      }
     },
     "78117af1e6c140e19de89cf4aa9c2b43": {
      "model_module": "@jupyter-widgets/base",
      "model_module_version": "1.2.0",
      "model_name": "LayoutModel",
      "state": {
       "margin": "0px 0px 0px 37px",
       "width": "600px"
      }
     },
     "8af370cd1ab0434ebef6b96316bd0189": {
      "model_module": "@jupyter-widgets/controls",
      "model_module_version": "1.5.0",
      "model_name": "DescriptionStyleModel",
      "state": {
       "description_width": ""
      }
     },
     "a1b79de9401b46abac62caadccea0781": {
      "model_module": "@jupyter-widgets/base",
      "model_module_version": "1.2.0",
      "model_name": "LayoutModel",
      "state": {
       "width": "95px"
      }
     },
     "ab0cc1b15a2f4327b8b987d0d467c76e": {
      "model_module": "@jupyter-widgets/controls",
      "model_module_version": "1.5.0",
      "model_name": "DescriptionStyleModel",
      "state": {
       "description_width": ""
      }
     },
     "ae1ec108d73a489a87793586ea873da7": {
      "model_module": "@jupyter-widgets/controls",
      "model_module_version": "1.5.0",
      "model_name": "HTMLModel",
      "state": {
       "layout": "IPY_MODEL_7375ab71196342179e1bd839c9d842d9",
       "style": "IPY_MODEL_29f3f576a25645c899ef557c97a1027a",
       "value": "<h5>Job ID</h5>"
      }
     },
     "b73a633408df4f3a90f74c39050fe5d8": {
      "model_module": "@jupyter-widgets/controls",
      "model_module_version": "1.5.0",
      "model_name": "HTMLModel",
      "state": {
       "layout": "IPY_MODEL_ffb20b59dcfe4a0db4b51e9e648cffc4",
       "style": "IPY_MODEL_df69db52866d45ea939b43dbe52074f1",
       "value": "<h5>Backend</h5>"
      }
     },
     "c8c34590cf4141c4ba82ca100b94e5cd": {
      "model_module": "@jupyter-widgets/controls",
      "model_module_version": "1.5.0",
      "model_name": "DescriptionStyleModel",
      "state": {
       "description_width": ""
      }
     },
     "cab7f864086f4dd0b45934487b0f78bf": {
      "model_module": "@jupyter-widgets/controls",
      "model_module_version": "1.5.0",
      "model_name": "HTMLModel",
      "state": {
       "layout": "IPY_MODEL_44fd40fc00744aa1962c85a9731deb12",
       "style": "IPY_MODEL_8af370cd1ab0434ebef6b96316bd0189",
       "value": "<p style='font-family: IBM Plex Sans, Arial, Helvetica, sans-serif; font-size: 20px; font-weight: medium;'>Circuit Properties</p>"
      }
     },
     "df69db52866d45ea939b43dbe52074f1": {
      "model_module": "@jupyter-widgets/controls",
      "model_module_version": "1.5.0",
      "model_name": "DescriptionStyleModel",
      "state": {
       "description_width": ""
      }
     },
     "e1c2775a9b6945d79113d114de63ee51": {
      "model_module": "@jupyter-widgets/base",
      "model_module_version": "1.2.0",
      "model_name": "LayoutModel",
      "state": {
       "grid_area": "right",
       "padding": "0px 0px 0px 0px",
       "width": "70px"
      }
     },
     "e2b4b2b00ed44e2291a55318fc1b45d6": {
      "model_module": "@jupyter-widgets/controls",
      "model_module_version": "1.5.0",
      "model_name": "ButtonStyleModel",
      "state": {}
     },
     "e43c7efa21bb47b082a294551d16806b": {
      "model_module": "@jupyter-widgets/controls",
      "model_module_version": "1.5.0",
      "model_name": "ButtonModel",
      "state": {
       "button_style": "primary",
       "description": "Clear",
       "layout": "IPY_MODEL_e1c2775a9b6945d79113d114de63ee51",
       "style": "IPY_MODEL_e2b4b2b00ed44e2291a55318fc1b45d6"
      }
     },
     "ffb20b59dcfe4a0db4b51e9e648cffc4": {
      "model_module": "@jupyter-widgets/base",
      "model_module_version": "1.2.0",
      "model_name": "LayoutModel",
      "state": {
       "width": "145px"
      }
     }
    },
    "version_major": 2,
    "version_minor": 0
   }
  }
 },
 "nbformat": 4,
 "nbformat_minor": 5
}
